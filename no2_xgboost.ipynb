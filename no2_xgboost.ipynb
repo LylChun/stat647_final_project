{
  "nbformat": 4,
  "nbformat_minor": 0,
  "metadata": {
    "colab": {
      "provenance": []
    },
    "kernelspec": {
      "name": "python3",
      "display_name": "Python 3"
    },
    "language_info": {
      "name": "python"
    }
  },
  "cells": [
    {
      "cell_type": "code",
      "execution_count": null,
      "metadata": {
        "id": "daHlwyBj19PP"
      },
      "outputs": [],
      "source": [
        "# Import DS Python Libraries\n",
        "import numpy as np\n",
        "import pandas as pd\n",
        "import matplotlib.pyplot as plt\n",
        "\n",
        "# Import ML stuff\n",
        "import xgboost as xgb\n",
        "from sklearn import metrics\n",
        "from sklearn.model_selection import train_test_split\n",
        "from sklearn.model_selection import GridSearchCV\n",
        "\n",
        "# Training Tracking\n",
        "from tqdm import trange\n",
        "from time import time"
      ]
    },
    {
      "cell_type": "code",
      "source": [
        "from google.colab import drive\n",
        "drive.mount('/drive')\n",
        "%cd \"/drive/MyDrive/TAMU Fall 2024/STAT647\""
      ],
      "metadata": {
        "colab": {
          "base_uri": "https://localhost:8080/"
        },
        "id": "JtIoe6ed2VAE",
        "outputId": "aa0376ec-10f2-42c3-c31e-1b9fc27ee834"
      },
      "execution_count": null,
      "outputs": [
        {
          "output_type": "stream",
          "name": "stdout",
          "text": [
            "Drive already mounted at /drive; to attempt to forcibly remount, call drive.mount(\"/drive\", force_remount=True).\n",
            "/drive/MyDrive/TAMU Fall 2024/STAT647\n"
          ]
        }
      ]
    },
    {
      "cell_type": "markdown",
      "source": [
        "# Getting the Data"
      ],
      "metadata": {
        "id": "XqTJFtYR234v"
      }
    },
    {
      "cell_type": "code",
      "source": [
        "no2_data = pd.read_csv(\"NO2_CONUS_full_data.csv\",\n",
        "                       dtype = {\"State.Code\" : \"category\", \"County.Code\" : \"category\", \"GEOID\" : \"category\"})\n",
        "no2_data.info()"
      ],
      "metadata": {
        "colab": {
          "base_uri": "https://localhost:8080/"
        },
        "id": "0Ym000MS229l",
        "outputId": "cb0e2911-97d5-4e75-eaa4-43c01c447689"
      },
      "execution_count": null,
      "outputs": [
        {
          "output_type": "stream",
          "name": "stdout",
          "text": [
            "<class 'pandas.core.frame.DataFrame'>\n",
            "RangeIndex: 475 entries, 0 to 474\n",
            "Data columns (total 23 columns):\n",
            " #   Column                   Non-Null Count  Dtype   \n",
            "---  ------                   --------------  -----   \n",
            " 0   State.Code               475 non-null    category\n",
            " 1   County.Code              475 non-null    category\n",
            " 2   Latitude                 475 non-null    float64 \n",
            " 3   Longitude                475 non-null    float64 \n",
            " 4   Datum                    475 non-null    object  \n",
            " 5   Sample.Duration          475 non-null    object  \n",
            " 6   Metric.Used              475 non-null    object  \n",
            " 7   Units.of.Measure         475 non-null    object  \n",
            " 8   Observation.Count        475 non-null    int64   \n",
            " 9   Observation.Percent      475 non-null    int64   \n",
            " 10  Arithmetic.Mean          475 non-null    float64 \n",
            " 11  Arithmetic.Standard.Dev  475 non-null    float64 \n",
            " 12  X50th.Percentile         475 non-null    float64 \n",
            " 13  GEOID                    475 non-null    category\n",
            " 14  total_population         475 non-null    int64   \n",
            " 15  total_no_vehicle         475 non-null    int64   \n",
            " 16  total_carpool_vehicle    475 non-null    int64   \n",
            " 17  total_private_vehicle    475 non-null    int64   \n",
            " 18  total_public_transit     475 non-null    int64   \n",
            " 19  ppt                      475 non-null    float64 \n",
            " 20  tmax                     475 non-null    float64 \n",
            " 21  tmin                     475 non-null    float64 \n",
            " 22  tmean                    475 non-null    float64 \n",
            "dtypes: category(3), float64(9), int64(7), object(4)\n",
            "memory usage: 81.4+ KB\n"
          ]
        }
      ]
    },
    {
      "cell_type": "code",
      "source": [
        "no2_data[\"perc_no_vehicle\"] = no2_data[\"total_no_vehicle\"] / no2_data[\"total_population\"]\n",
        "no2_data[\"perc_carpool_vehicle\"] = no2_data[\"total_carpool_vehicle\"] / no2_data[\"total_population\"]\n",
        "no2_data[\"perc_private_vehicle\"] = no2_data[\"total_private_vehicle\"] / no2_data[\"total_population\"]\n",
        "no2_data[\"perc_public_transit\"] = no2_data[\"total_public_transit\"] / no2_data[\"total_population\"]\n",
        "no2_data = no2_data.drop([\"total_no_vehicle\", \"total_carpool_vehicle\", \"total_private_vehicle\", \"total_public_transit\"], axis = 1)"
      ],
      "metadata": {
        "id": "LkkbXIOS4Xpe"
      },
      "execution_count": null,
      "outputs": []
    },
    {
      "cell_type": "code",
      "source": [
        "no2_data.info()"
      ],
      "metadata": {
        "colab": {
          "base_uri": "https://localhost:8080/"
        },
        "id": "HlHcPTpt5ADn",
        "outputId": "c06cd073-a76a-4789-8fa0-a34399ff27df"
      },
      "execution_count": null,
      "outputs": [
        {
          "output_type": "stream",
          "name": "stdout",
          "text": [
            "<class 'pandas.core.frame.DataFrame'>\n",
            "RangeIndex: 475 entries, 0 to 474\n",
            "Data columns (total 23 columns):\n",
            " #   Column                   Non-Null Count  Dtype   \n",
            "---  ------                   --------------  -----   \n",
            " 0   State.Code               475 non-null    category\n",
            " 1   County.Code              475 non-null    category\n",
            " 2   Latitude                 475 non-null    float64 \n",
            " 3   Longitude                475 non-null    float64 \n",
            " 4   Datum                    475 non-null    object  \n",
            " 5   Sample.Duration          475 non-null    object  \n",
            " 6   Metric.Used              475 non-null    object  \n",
            " 7   Units.of.Measure         475 non-null    object  \n",
            " 8   Observation.Count        475 non-null    int64   \n",
            " 9   Observation.Percent      475 non-null    int64   \n",
            " 10  Arithmetic.Mean          475 non-null    float64 \n",
            " 11  Arithmetic.Standard.Dev  475 non-null    float64 \n",
            " 12  X50th.Percentile         475 non-null    float64 \n",
            " 13  GEOID                    475 non-null    category\n",
            " 14  total_population         475 non-null    int64   \n",
            " 15  ppt                      475 non-null    float64 \n",
            " 16  tmax                     475 non-null    float64 \n",
            " 17  tmin                     475 non-null    float64 \n",
            " 18  tmean                    475 non-null    float64 \n",
            " 19  perc_no_vehicle          475 non-null    float64 \n",
            " 20  perc_carpool_vehicle     475 non-null    float64 \n",
            " 21  perc_private_vehicle     475 non-null    float64 \n",
            " 22  perc_public_transit      475 non-null    float64 \n",
            "dtypes: category(3), float64(13), int64(3), object(4)\n",
            "memory usage: 81.4+ KB\n"
          ]
        }
      ]
    },
    {
      "cell_type": "code",
      "source": [
        "no2_data.isna().sum()"
      ],
      "metadata": {
        "colab": {
          "base_uri": "https://localhost:8080/",
          "height": 805
        },
        "id": "5iM07Mvg6-QF",
        "outputId": "0706e302-5837-43c9-865e-92436dec2e71"
      },
      "execution_count": null,
      "outputs": [
        {
          "output_type": "execute_result",
          "data": {
            "text/plain": [
              "State.Code                 0\n",
              "County.Code                0\n",
              "Latitude                   0\n",
              "Longitude                  0\n",
              "Datum                      0\n",
              "Sample.Duration            0\n",
              "Metric.Used                0\n",
              "Units.of.Measure           0\n",
              "Observation.Count          0\n",
              "Observation.Percent        0\n",
              "Arithmetic.Mean            0\n",
              "Arithmetic.Standard.Dev    0\n",
              "X50th.Percentile           0\n",
              "GEOID                      0\n",
              "total_population           0\n",
              "ppt                        0\n",
              "tmax                       0\n",
              "tmin                       0\n",
              "tmean                      0\n",
              "perc_no_vehicle            0\n",
              "perc_carpool_vehicle       0\n",
              "perc_private_vehicle       0\n",
              "perc_public_transit        0\n",
              "dtype: int64"
            ],
            "text/html": [
              "<div>\n",
              "<style scoped>\n",
              "    .dataframe tbody tr th:only-of-type {\n",
              "        vertical-align: middle;\n",
              "    }\n",
              "\n",
              "    .dataframe tbody tr th {\n",
              "        vertical-align: top;\n",
              "    }\n",
              "\n",
              "    .dataframe thead th {\n",
              "        text-align: right;\n",
              "    }\n",
              "</style>\n",
              "<table border=\"1\" class=\"dataframe\">\n",
              "  <thead>\n",
              "    <tr style=\"text-align: right;\">\n",
              "      <th></th>\n",
              "      <th>0</th>\n",
              "    </tr>\n",
              "  </thead>\n",
              "  <tbody>\n",
              "    <tr>\n",
              "      <th>State.Code</th>\n",
              "      <td>0</td>\n",
              "    </tr>\n",
              "    <tr>\n",
              "      <th>County.Code</th>\n",
              "      <td>0</td>\n",
              "    </tr>\n",
              "    <tr>\n",
              "      <th>Latitude</th>\n",
              "      <td>0</td>\n",
              "    </tr>\n",
              "    <tr>\n",
              "      <th>Longitude</th>\n",
              "      <td>0</td>\n",
              "    </tr>\n",
              "    <tr>\n",
              "      <th>Datum</th>\n",
              "      <td>0</td>\n",
              "    </tr>\n",
              "    <tr>\n",
              "      <th>Sample.Duration</th>\n",
              "      <td>0</td>\n",
              "    </tr>\n",
              "    <tr>\n",
              "      <th>Metric.Used</th>\n",
              "      <td>0</td>\n",
              "    </tr>\n",
              "    <tr>\n",
              "      <th>Units.of.Measure</th>\n",
              "      <td>0</td>\n",
              "    </tr>\n",
              "    <tr>\n",
              "      <th>Observation.Count</th>\n",
              "      <td>0</td>\n",
              "    </tr>\n",
              "    <tr>\n",
              "      <th>Observation.Percent</th>\n",
              "      <td>0</td>\n",
              "    </tr>\n",
              "    <tr>\n",
              "      <th>Arithmetic.Mean</th>\n",
              "      <td>0</td>\n",
              "    </tr>\n",
              "    <tr>\n",
              "      <th>Arithmetic.Standard.Dev</th>\n",
              "      <td>0</td>\n",
              "    </tr>\n",
              "    <tr>\n",
              "      <th>X50th.Percentile</th>\n",
              "      <td>0</td>\n",
              "    </tr>\n",
              "    <tr>\n",
              "      <th>GEOID</th>\n",
              "      <td>0</td>\n",
              "    </tr>\n",
              "    <tr>\n",
              "      <th>total_population</th>\n",
              "      <td>0</td>\n",
              "    </tr>\n",
              "    <tr>\n",
              "      <th>ppt</th>\n",
              "      <td>0</td>\n",
              "    </tr>\n",
              "    <tr>\n",
              "      <th>tmax</th>\n",
              "      <td>0</td>\n",
              "    </tr>\n",
              "    <tr>\n",
              "      <th>tmin</th>\n",
              "      <td>0</td>\n",
              "    </tr>\n",
              "    <tr>\n",
              "      <th>tmean</th>\n",
              "      <td>0</td>\n",
              "    </tr>\n",
              "    <tr>\n",
              "      <th>perc_no_vehicle</th>\n",
              "      <td>0</td>\n",
              "    </tr>\n",
              "    <tr>\n",
              "      <th>perc_carpool_vehicle</th>\n",
              "      <td>0</td>\n",
              "    </tr>\n",
              "    <tr>\n",
              "      <th>perc_private_vehicle</th>\n",
              "      <td>0</td>\n",
              "    </tr>\n",
              "    <tr>\n",
              "      <th>perc_public_transit</th>\n",
              "      <td>0</td>\n",
              "    </tr>\n",
              "  </tbody>\n",
              "</table>\n",
              "</div><br><label><b>dtype:</b> int64</label>"
            ]
          },
          "metadata": {},
          "execution_count": 21
        }
      ]
    },
    {
      "cell_type": "markdown",
      "source": [
        "# Training the Model"
      ],
      "metadata": {
        "id": "ajgHSWqo26aT"
      }
    },
    {
      "cell_type": "code",
      "source": [
        "X = no2_data[[\"State.Code\", \"GEOID\", \"Latitude\", \"Longitude\", \"total_population\",\n",
        "              \"ppt\", \"tmax\", \"tmean\", \"tmin\", \"perc_no_vehicle\", \"perc_carpool_vehicle\",\n",
        "              \"perc_private_vehicle\", \"perc_public_transit\"]]\n",
        "y = no2_data[\"X50th.Percentile\"].values"
      ],
      "metadata": {
        "id": "I839UqGR28xW"
      },
      "execution_count": null,
      "outputs": []
    },
    {
      "cell_type": "code",
      "source": [
        "# Train-valid-test split 80-10-10%\n",
        "X_train, X_holdout, y_train, y_holdout = train_test_split(X, y, test_size = 0.2, random_state = 42)\n",
        "X_val, X_test, y_val, y_test = train_test_split(X_holdout, y_holdout, test_size = 0.5, random_state = 42)"
      ],
      "metadata": {
        "id": "fHlPOKvx6gfO"
      },
      "execution_count": null,
      "outputs": []
    },
    {
      "cell_type": "code",
      "source": [
        "X_train.shape, X_val.shape, X_test.shape"
      ],
      "metadata": {
        "colab": {
          "base_uri": "https://localhost:8080/"
        },
        "id": "g8FLsVCj6mrk",
        "outputId": "f2c0ecff-c639-48c3-fb05-9b0c3af8d39d"
      },
      "execution_count": null,
      "outputs": [
        {
          "output_type": "execute_result",
          "data": {
            "text/plain": [
              "((380, 13), (47, 13), (48, 13))"
            ]
          },
          "metadata": {},
          "execution_count": 24
        }
      ]
    },
    {
      "cell_type": "code",
      "source": [
        "# Start model timer\n",
        "start = time()\n",
        "\n",
        "# Init model\n",
        "opt_model = xgb.XGBRegressor(objective = \"reg:squarederror\",\n",
        "                             learning_rate = 0.01,\n",
        "                             colsample_bytree = 0.8,\n",
        "                             eval_metric = 'rmse',\n",
        "                             early_stopping_rounds = 10,\n",
        "                             # missing = np.nan,\n",
        "                             enable_categorical = True,\n",
        "                             max_depth = 6,\n",
        "                             verbosity = 0)\n",
        "\n",
        "opt_dict = {'n_estimators': [200, 250, 300, 350, 400, 450, 500],\n",
        "            'max_depth' : [3, 4, 5, 6]}\n",
        "\n",
        "model = GridSearchCV(opt_model, opt_dict,\n",
        "                     scoring = 'neg_mean_squared_error', verbose = 1)\n",
        "\n",
        "model.fit(X_train,y_train,\n",
        "          eval_set = [(X_train, y_train), (X_val, y_val)],\n",
        "          verbose = False)\n",
        "\n",
        "end = time()\n",
        "print(\"Took\", round(((end- start) / 60), 4), \"minutes to search for the best model.\")"
      ],
      "metadata": {
        "colab": {
          "base_uri": "https://localhost:8080/"
        },
        "id": "2xuF12Lh6wDZ",
        "outputId": "fc477454-17c4-4178-fae9-46817b1206b9"
      },
      "execution_count": null,
      "outputs": [
        {
          "output_type": "stream",
          "name": "stdout",
          "text": [
            "Fitting 5 folds for each of 28 candidates, totalling 140 fits\n"
          ]
        },
        {
          "output_type": "stream",
          "name": "stderr",
          "text": [
            "/usr/local/lib/python3.10/dist-packages/numpy/ma/core.py:2820: RuntimeWarning: invalid value encountered in cast\n",
            "  _data = np.array(data, dtype=dtype, copy=copy,\n"
          ]
        },
        {
          "output_type": "stream",
          "name": "stdout",
          "text": [
            "Took 1.8704 minutes to search for the best model.\n"
          ]
        }
      ]
    },
    {
      "cell_type": "code",
      "source": [
        "model.best_params_"
      ],
      "metadata": {
        "colab": {
          "base_uri": "https://localhost:8080/"
        },
        "id": "G4p7HGIu8Vq1",
        "outputId": "2b740d48-4f06-4495-9a42-b3b1457d27f6"
      },
      "execution_count": null,
      "outputs": [
        {
          "output_type": "execute_result",
          "data": {
            "text/plain": [
              "{'max_depth': 4, 'n_estimators': 200}"
            ]
          },
          "metadata": {},
          "execution_count": 41
        }
      ]
    },
    {
      "cell_type": "code",
      "source": [
        "import pickle\n",
        "\n",
        "# Saving data by pickling data into pkl files to avoid running code for data again\n",
        "with open('best_model_w_covariates.pkl', 'wb') as file:\n",
        "    pickle.dump(model, file)"
      ],
      "metadata": {
        "id": "Fp9obtAC8Zpn"
      },
      "execution_count": null,
      "outputs": []
    },
    {
      "cell_type": "code",
      "source": [
        "# Fit the best XGBoost model\n",
        "XGBReg = xgb.XGBRegressor(objective = \"reg:squarederror\",\n",
        "                          learning_rate = 0.01,\n",
        "                          colsample_bytree = 0.8,\n",
        "                          eval_metric = 'rmse',\n",
        "                          early_stopping_rounds = 10,\n",
        "                          max_depth = 4,\n",
        "                          n_estimators = 200,\n",
        "                          enable_categorical = True,\n",
        "                          missing = np.nan,\n",
        "                          verbosity = 0).fit(X_train, y_train,\n",
        "                                             eval_set = [(X_train, y_train),\n",
        "                                              (X_val, y_val)],\n",
        "                                             verbose = False)"
      ],
      "metadata": {
        "id": "7CE01vzp8dbE"
      },
      "execution_count": null,
      "outputs": []
    },
    {
      "cell_type": "code",
      "source": [
        "# Get evaluation results\n",
        "results = XGBReg.evals_result()\n",
        "\n",
        "# Extract train and validation loss\n",
        "train_loss = results['validation_0']['rmse']\n",
        "val_loss = results['validation_1']['rmse']\n",
        "\n",
        "# Plot losses\n",
        "plt.figure(figsize=(10, 6))\n",
        "plt.plot(train_loss, label = 'Train Loss')\n",
        "plt.plot(val_loss, label = 'Validation Loss')\n",
        "plt.xlabel('Boosting Round')\n",
        "plt.ylabel('RMSE')\n",
        "plt.title('XGBoost Training and Validation Loss')\n",
        "plt.legend()\n",
        "plt.grid(True)\n",
        "plt.show()"
      ],
      "metadata": {
        "colab": {
          "base_uri": "https://localhost:8080/",
          "height": 564
        },
        "id": "IctFbOdi8j-8",
        "outputId": "aa6bf139-af92-4a70-f54b-87e8e11d5959"
      },
      "execution_count": null,
      "outputs": [
        {
          "output_type": "display_data",
          "data": {
            "text/plain": [
              "<Figure size 1000x600 with 1 Axes>"
            ],
            "image/png": "[encoded data removed]"
          },
          "metadata": {}
        }
      ]
    },
    {
      "cell_type": "markdown",
      "source": [
        "# Test Metrics and Evaluation"
      ],
      "metadata": {
        "id": "q-XyCMlN29Ue"
      }
    },
    {
      "cell_type": "code",
      "source": [
        "def smape(y_hat, y):\n",
        "  return round(np.mean(\n",
        "      np.abs(y_hat - y) / ((np.abs(y_hat) + np.abs(y))/2)\n",
        "      )*100, 2)"
      ],
      "metadata": {
        "id": "gdO3kqph9ot6"
      },
      "execution_count": null,
      "outputs": []
    },
    {
      "cell_type": "code",
      "source": [
        "y_pred_test = XGBReg.predict(X_test)\n",
        "y_pred_valid = XGBReg.predict(X_val)\n",
        "y_pred_train = XGBReg.predict(X_train)"
      ],
      "metadata": {
        "id": "l60sBTD82_ry"
      },
      "execution_count": null,
      "outputs": []
    },
    {
      "cell_type": "code",
      "source": [
        "print(\"RMSE Train:\", metrics.root_mean_squared_error(y_train, y_pred_train))\n",
        "print(\"RMSE Valid:\", metrics.root_mean_squared_error(y_val, y_pred_valid))\n",
        "print(\"RMSE Test:\", metrics.root_mean_squared_error(y_test, y_pred_test), \"\\n\")\n",
        "print(\"SMAPE Train:\", smape(y_train, y_pred_train))\n",
        "print(\"SMAPE Valid:\", smape(y_val, y_pred_valid))\n",
        "print(\"SMAPE Test:\", smape(y_test, y_pred_test))"
      ],
      "metadata": {
        "colab": {
          "base_uri": "https://localhost:8080/"
        },
        "id": "4p1WtbUL9eDB",
        "outputId": "10df7908-a9b2-4ee4-ea66-62a3630430a1"
      },
      "execution_count": null,
      "outputs": [
        {
          "output_type": "stream",
          "name": "stdout",
          "text": [
            "RMSE Train: 3.360026055478355\n",
            "RMSE Valid: 8.517376887251332\n",
            "RMSE Test: 8.38364933550421 \n",
            "\n",
            "SMAPE Train: 23.64\n",
            "SMAPE Valid: 53.17\n",
            "SMAPE Test: 56.1\n"
          ]
        }
      ]
    },
    {
      "cell_type": "markdown",
      "source": [
        "### Feature Importance"
      ],
      "metadata": {
        "id": "4UuyrFjK_VqC"
      }
    },
    {
      "cell_type": "code",
      "source": [
        "XGBReg.get_booster().feature_names = X.columns.to_list()\n",
        "xgb.plot_importance(XGBReg, max_num_features = 20)"
      ],
      "metadata": {
        "colab": {
          "base_uri": "https://localhost:8080/",
          "height": 489
        },
        "id": "ZgPdoc6x-aKV",
        "outputId": "caca247f-9616-4ef7-fb35-d818e36bbd38"
      },
      "execution_count": null,
      "outputs": [
        {
          "output_type": "execute_result",
          "data": {
            "text/plain": [
              "<Axes: title={'center': 'Feature importance'}, xlabel='F score', ylabel='Features'>"
            ]
          },
          "metadata": {},
          "execution_count": 59
        },
        {
          "output_type": "display_data",
          "data": {
            "text/plain": [
              "<Figure size 640x480 with 1 Axes>"
            ],
            "image/png": "[encoded data removed]"
          },
          "metadata": {}
        }
      ]
    },
    {
      "cell_type": "code",
      "source": [],
      "metadata": {
        "id": "OXMf_ibj_X5a"
      },
      "execution_count": null,
      "outputs": []
    }
  ]
}